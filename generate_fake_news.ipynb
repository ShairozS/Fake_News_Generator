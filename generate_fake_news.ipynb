{
 "cells": [
  {
   "cell_type": "code",
   "execution_count": 51,
   "metadata": {
    "collapsed": true
   },
   "outputs": [],
   "source": [
    "import argparse\n",
    "import sys"
   ]
  },
  {
   "cell_type": "code",
   "execution_count": 52,
   "metadata": {
    "collapsed": false
   },
   "outputs": [
    {
     "name": "stderr",
     "output_type": "stream",
     "text": [
      "usage: __main__.py [-h] [-s SENTIMENT]\n",
      "__main__.py: error: unrecognized arguments: -f /Users/shairozsohail/Library/Jupyter/runtime/kernel-10abf7de-50d5-48b5-87fa-c95920c3647f.json\n"
     ]
    },
    {
     "ename": "SystemExit",
     "evalue": "2",
     "output_type": "error",
     "traceback": [
      "An exception has occurred, use %tb to see the full traceback.\n",
      "\u001b[0;31mSystemExit\u001b[0m\u001b[0;31m:\u001b[0m 2\n"
     ]
    },
    {
     "name": "stderr",
     "output_type": "stream",
     "text": [
      "/anaconda/lib/python3.6/site-packages/IPython/core/interactiveshell.py:2889: UserWarning: To exit: use 'exit', 'quit', or Ctrl-D.\n",
      "  warn(\"To exit: use 'exit', 'quit', or Ctrl-D.\", stacklevel=1)\n"
     ]
    }
   ],
   "source": [
    "parser = argparse.ArgumentParser(description=\"Generate a fake news headline in the current folder\")\n",
    "parser.add_argument(\"-s\", \"--sentiment\", default='positive', type=str, help=\"Sentiment of generated news - positive or negative\")\n",
    "args = parser.parse_args()\n",
    "sentiment = args.sentiment"
   ]
  },
  {
   "cell_type": "code",
   "execution_count": 49,
   "metadata": {
    "collapsed": true
   },
   "outputs": [],
   "source": [
    "def get_headline(seed='The', sentiment='positive'):\n",
    "    #print(\"Creating model\")\n",
    "    # load json and create model\n",
    "    if sentiment=='positive':\n",
    "        json_file = open('positive_model.json', 'r')\n",
    "    else:\n",
    "        json_file = open('negative_model.json', 'r')\n",
    "    loaded_model_json = json_file.read()\n",
    "    json_file.close()\n",
    "    #loaded_model = model_from_json(loaded_model_json)\n",
    "\n",
    "    # load weights into new model\n",
    "    if sentiment=='positive':\n",
    "        loaded_model.load_weights(\"positive_model.h5\")\n",
    "    else:\n",
    "        loaded_model.load_weights(\"negative_model.h5\")\n",
    "    loaded_model.compile(loss='categorical_crossentropy', optimizer=optimizer)\n",
    "    #print(\"Loaded \" + str(sentiment) + \" model from disk\")\n",
    "    \n",
    "    \n",
    "    #print(\"Generating headline\")\n",
    "    for diversity in [0.2]:\n",
    "        generated = ''\n",
    "        sentence = seed\n",
    "        generated += sentence\n",
    "        #print('----- Generating with seed: \"' + sentence + '\"')\n",
    "        #print()\n",
    "        #sys.stdout.write(generated)\n",
    "\n",
    "        for i in range(400):\n",
    "            x_pred = np.zeros((1, maxlen, len(chars))) # Padding\n",
    "            for t, char in enumerate(sentence): \n",
    "                x_pred[0, t, char_indices[char]] = 1.\n",
    "\n",
    "            preds = loaded_model.predict(x_pred, verbose=0)[0]\n",
    "            next_index = sample(preds, diversity)\n",
    "            next_char = indices_char[next_index]\n",
    "\n",
    "            generated += next_char\n",
    "            sentence = sentence[1:] + next_char\n",
    "\n",
    "            #sys.stdout.write(next_char)\n",
    "            #sys.stdout.flush()\n",
    "        return(sentence)\n",
    "        \n",
    "        \n",
    "def get_image_of(query, filepath='image_result.jpg'):\n",
    "    subscriptionKey = '058604aaaf914e7f9e46671f0a8c85ae'\n",
    "    import http.client, urllib.parse, json\n",
    "    # Verify the endpoint URI.  At this writing, only one endpoint is used for Bing\n",
    "    # search APIs.  In the future, regional endpoints may be available.  If you\n",
    "    # encounter unexpected authorization errors, double-check this value against\n",
    "    # the endpoint for your Bing search instance in your Azure dashboard.\n",
    "    host = \"api.cognitive.microsoft.com\"\n",
    "    path = \"/bing/v7.0/images/search\"\n",
    "    term = query.replace(' ', '+')\n",
    "\n",
    "    def BingImageSearch(search):\n",
    "        \"Performs a Bing image search and returns the results.\"\n",
    "\n",
    "        headers = {'Ocp-Apim-Subscription-Key': subscriptionKey}\n",
    "        conn = http.client.HTTPSConnection(host)\n",
    "        query = urllib.parse.quote(search)\n",
    "        conn.request(\"GET\", path + \"?q=\" + query, headers=headers)\n",
    "        response = conn.getresponse()\n",
    "        headers = [k + \": \" + v for (k, v) in response.getheaders()\n",
    "                       if k.startswith(\"BingAPIs-\") or k.startswith(\"X-MSEdge-\")]\n",
    "        return headers, response\n",
    "\n",
    "    #print('Searching images for: ', term)\n",
    "    headers, result = BingImageSearch(term)\n",
    "    \n",
    "    response_dict = json.load(result)\n",
    "    image_url = response_dict['value'][1]['contentUrl']\n",
    "    #print('Saving image...')\n",
    "    urllib.request.urlretrieve(image_url, filepath)\n",
    "\n",
    "\n",
    "def generate_headline_document(headline_text, headline_image, filename='new_headline.pdf'):\n",
    "    from reportlab.pdfgen import canvas\n",
    "    from reportlab.lib.units import cm\n",
    "    c = canvas.Canvas(filename)\n",
    "    c.setFont('Helvetica-Bold', 26)\n",
    "    c.drawString(80,750,headline_text)\n",
    "    c.drawInlineImage(headline_image, x=80, y=420, preserveAspectRatio=True, width=10*cm, anchor='w')\n",
    "    c.save()\n",
    "\n"
   ]
  },
  {
   "cell_type": "code",
   "execution_count": 47,
   "metadata": {
    "collapsed": false
   },
   "outputs": [
    {
     "name": "stdout",
     "output_type": "stream",
     "text": [
      "Searching images for:  milk+carton\n",
      "Saving image...\n"
     ]
    }
   ],
   "source": [
    "def generate_fake_news(sentiment='positive', output_file='fake_news.pdf'):\n",
    "    print(\"Generating \" + sentiment + \" headline\")\n",
    "    headline = get_headline(sentiment=sentiment)\n",
    "    print(\"Generating images\")\n",
    "    image = get_image_of(headline)\n",
    "    print(\"Generating news\")\n",
    "    generate_headline_document(headline_text=headline, headline_image=image)\n",
    "    print(\"Fake News generated at \" + output_file)"
   ]
  },
  {
   "cell_type": "code",
   "execution_count": 48,
   "metadata": {
    "collapsed": false
   },
   "outputs": [
    {
     "name": "stdout",
     "output_type": "stream",
     "text": [
      "Searching images for:  call+for+success+on+us+communities+to+be+over+australia\n",
      "Saving image...\n"
     ]
    }
   ],
   "source": [
    "generate_fake_news(sentiment=sentiment)"
   ]
  },
  {
   "cell_type": "code",
   "execution_count": null,
   "metadata": {
    "collapsed": true
   },
   "outputs": [],
   "source": []
  }
 ],
 "metadata": {
  "kernelspec": {
   "display_name": "Python 3",
   "language": "python",
   "name": "python3"
  },
  "language_info": {
   "codemirror_mode": {
    "name": "ipython",
    "version": 3
   },
   "file_extension": ".py",
   "mimetype": "text/x-python",
   "name": "python",
   "nbconvert_exporter": "python",
   "pygments_lexer": "ipython3",
   "version": "3.6.0"
  }
 },
 "nbformat": 4,
 "nbformat_minor": 2
}
