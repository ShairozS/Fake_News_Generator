{
 "cells": [
  {
   "cell_type": "code",
   "execution_count": null,
   "metadata": {
    "collapsed": true
   },
   "outputs": [],
   "source": [
    "## Installing needed Python packages\n",
    "\n",
    "!pip install --user pandas\n",
    "!pip install --user numpy\n",
    "!pip install --user nltk\n",
    "!pip install --user tensorflow\n",
    "!pip install --user keras\n",
    "!pip install --user json\n",
    "!pip install --user urllib\n",
    "!pip install --user reportlab\n",
    "!pip install --user stop-words"
   ]
  },
  {
   "cell_type": "code",
   "execution_count": 2,
   "metadata": {
    "collapsed": false
   },
   "outputs": [
    {
     "name": "stderr",
     "output_type": "stream",
     "text": [
      "/anaconda/lib/python3.6/site-packages/nltk/twitter/__init__.py:20: UserWarning: The twython library has not been installed. Some functionality from the twitter package will not be available.\n",
      "  warnings.warn(\"The twython library has not been installed. \"\n",
      "Using Theano backend.\n"
     ]
    }
   ],
   "source": [
    "## Importing needed Python packages\n",
    "\n",
    "import argparse\n",
    "import sys\n",
    "import pandas as pd\n",
    "import numpy as np\n",
    "from nltk.sentiment.vader import SentimentIntensityAnalyzer as Sentiment\n",
    "from __future__ import print_function\n",
    "from keras.models import Sequential\n",
    "from keras.layers import Dense, Activation\n",
    "from keras.layers import LSTM\n",
    "from keras.optimizers import RMSprop\n",
    "from keras.utils.data_utils import get_file\n",
    "import random\n",
    "import sys\n",
    "import os\n",
    "import re\n",
    "import json\n",
    "import urllib\n",
    "from reportlab.pdfgen import canvas\n",
    "from reportlab.lib.units import cm"
   ]
  },
  {
   "cell_type": "code",
   "execution_count": 3,
   "metadata": {
    "collapsed": false
   },
   "outputs": [],
   "source": [
    "sentiment = 'negative'"
   ]
  },
  {
   "cell_type": "code",
   "execution_count": 4,
   "metadata": {
    "collapsed": false
   },
   "outputs": [
    {
     "name": "stdout",
     "output_type": "stream",
     "text": [
      "corpus length: 18981459\n",
      "total chars: 46\n",
      "sequence count: 6327140\n",
      "**Vectorizing Text**\n"
     ]
    }
   ],
   "source": [
    "########################\n",
    "##  Data Preparation  ##\n",
    "########################\n",
    "\n",
    "if sentiment=='positive':\n",
    "    path = 'positive_headlines.csv'\n",
    "else:\n",
    "    path = 'negative_headlines.csv'\n",
    "text = open(path).read().lower()\n",
    "print('corpus length:', len(text))\n",
    "\n",
    "chars = sorted(list(set(text)))\n",
    "print('total chars:', len(chars))\n",
    "char_indices = dict((c, i) for i, c in enumerate(chars))\n",
    "indices_char = dict((i, c) for i, c in enumerate(chars))\n",
    "\n",
    "# cut the text in semi-redundant sequences of maxlen characters\n",
    "maxlen = 40\n",
    "step = 3\n",
    "sentences = []\n",
    "next_chars = []\n",
    "for i in range(0, len(text) - maxlen, step):\n",
    "    sentences.append(text[i: i + maxlen])\n",
    "    next_chars.append(text[i + maxlen])\n",
    "print('sequence count:', len(sentences))\n",
    "\n",
    "print('**Vectorizing Text**')\n",
    "x = np.zeros((len(sentences), maxlen, len(chars)), dtype=np.bool)\n",
    "y = np.zeros((len(sentences), len(chars)), dtype=np.bool)\n",
    "for i, sentence in enumerate(sentences):\n",
    "    for t, char in enumerate(sentence):\n",
    "        x[i, t, char_indices[char]] = 1\n",
    "    y[i, char_indices[next_chars[i]]] = 1\n",
    "\n",
    "\n"
   ]
  },
  {
   "cell_type": "code",
   "execution_count": 8,
   "metadata": {
    "collapsed": true
   },
   "outputs": [],
   "source": [
    "############################\n",
    "##  Function Definitions  ##\n",
    "############################\n",
    "def sample(preds, temperature=1.0):\n",
    "    # helper function to sample an index from a probability array\n",
    "    preds = np.asarray(preds).astype('float64')\n",
    "    preds = np.log(preds) / temperature\n",
    "    exp_preds = np.exp(preds)\n",
    "    preds = exp_preds / np.sum(exp_preds)\n",
    "    probas = np.random.multinomial(1, preds, 1)\n",
    "    return np.argmax(probas)\n",
    "\n",
    "\n",
    "def clean_sentence(sentence, shortstop=True):\n",
    "    import re\n",
    "    bad = sentence.replace(',', ' ')\n",
    "    better = \" \".join([w for w in bad.split() if not w.isdigit()])\n",
    "    if not shortstop:\n",
    "        return better\n",
    "    else:\n",
    "        word_list = better.split()\n",
    "        stop_words = ['a''about','above','after','again','against','all','am','an','and','any','are',\"aren't\",'as''at','be','because','been','before','being','below','between','both','but','by',\"can't\",'cannot','could',\"couldn't\",'did',\"didn't\",'do','does',\"doesn't\",'doing',\"don't\",'down','during','each','few','for','from','further','had',\"hadn't\",'has',\"hasn't\",'have',\"haven't\",'having','he',\"he'd\",\"he'll\",\"he's\",'her','here',\"here's\",'hers','herself','him','himself','his','how',\"how's\",'i',\"i'd\",\"i'll\",\"i'm\",\"i've\",'if','in','into','is',\"isn't\",'it',\"it's\",'its','itself',\"let's\",'me','more','most',\"mustn't\",'my','myself','no','nor','not','of','off','on','once','only','or','other','ought','our','ours','ourselves','out','over','own','same',\"shan't\",'she',\"she'd\",\"she'll\",\"she's\",'should',\"shouldn't\",'so','some','such','than','that',\"that's\",'the','their','theirs','them','themselves','then','there',\"there's\",'these','they',\"they'd\",\"they'll\",\"they're\",\"they've\",'this','those','through','to','too','under','until','up','very','was',\"wasn't\",'we',\"we'd\",\"we'll\",\"we're\",\"we've\",'were',\"weren't\",'what',\"what's\",'when',\"when's\",'where',\"where's\",'which','while','who',\"who's\",'whom','why',\"why's\",'with',\"won't\",'would',\"wouldn't\",'you',\"you'd\",\"you'll\",\"you're\",\"you've\",'your','yours','yourself','yourselves']\n",
    "        stop_word_index = [i for i, x in enumerate(word_list) if x in stop_words]\n",
    "        if len(stop_word_index)==0:\n",
    "            return(better)\n",
    "        stop_word_index = max(stop_word_index)\n",
    "        return(' '.join([str(x) for x in word_list[0:stop_word_index]]))\n",
    "\n",
    "def get_headline(seed='The', sentiment='positive', length=50, diversity=0.2):\n",
    "    print(\"Creating model\")\n",
    "    from keras.models import model_from_json\n",
    "    from keras import optimizers\n",
    "    # load json and create model\n",
    "    if sentiment=='positive':\n",
    "        json_file = open('positive_model.json', 'r')\n",
    "        text = open('positive_headlines.csv', 'r').read()\n",
    "    elif sentiment=='negative':\n",
    "        json_file = open('negative_model.json', 'r')\n",
    "        text = open('negative_headlines.csv', 'r').read()\n",
    "    else:\n",
    "        return(\"Enter positive or negative as sentiment\")\n",
    "    \n",
    "    \n",
    "    loaded_model_json = json_file.read()\n",
    "    json_file.close()\n",
    "    loaded_model = model_from_json(loaded_model_json)\n",
    "\n",
    "    # load weights into new model\n",
    "    if sentiment=='positive':\n",
    "        loaded_model.load_weights(\"positive_model.h5\")\n",
    "    else:\n",
    "        loaded_model.load_weights(\"negative_model.h5\")\n",
    "    optimizer = optimizers.RMSprop(lr=0.01)\n",
    "    loaded_model.compile(loss='categorical_crossentropy', optimizer=optimizer)\n",
    "    print(\"Loaded \" + str(sentiment) + \" model from disk\")\n",
    "    model = loaded_model\n",
    "    \n",
    "    \n",
    "    start_index = random.randint(0, len(text) - maxlen - 1)\n",
    "\n",
    "    for diversity in [diversity]:\n",
    "        #print()\n",
    "        #print('----- diversity:', diversity)\n",
    "\n",
    "        generated = ''\n",
    "        sentence = text[start_index: start_index + maxlen]\n",
    "        generated += sentence\n",
    "        #print('----- Generating with seed: \"' + sentence + '\"')\n",
    "        #sys.stdout.write(generated)\n",
    "\n",
    "        for i in range(50):\n",
    "            x_pred = np.zeros((1, maxlen, len(chars)))\n",
    "            for t, char in enumerate(sentence):\n",
    "                x_pred[0, t, char_indices[char]] = 1.\n",
    "            \n",
    "            preds = model.predict(x_pred, verbose=0)[0]\n",
    "            next_index = sample(preds, diversity)\n",
    "            next_char = indices_char[next_index]\n",
    "\n",
    "            generated += next_char\n",
    "            sentence = sentence[1:] + next_char\n",
    "\n",
    "            #sys.stdout.write(next_char)\n",
    "            #sys.stdout.flush()\n",
    "        \n",
    "    return(clean_sentence(sentence))\n",
    "\n",
    "\n",
    "def BingImageSearch(search):\n",
    "    \"Performs a Bing image search and returns the results.\"\n",
    "    subscriptionKey = '058604aaaf914e7f9e46671f0a8c85ae'\n",
    "    import http.client, urllib.parse, json\n",
    "    host = \"api.cognitive.microsoft.com\"\n",
    "    path = \"/bing/v7.0/images/search\"\n",
    "    term = search.replace(' ', '+')\n",
    "    headers = {'Ocp-Apim-Subscription-Key': subscriptionKey}\n",
    "    conn = http.client.HTTPSConnection(host)\n",
    "    query = urllib.parse.quote(search)\n",
    "    conn.request(\"GET\", path + \"?q=\" + query, headers=headers)\n",
    "    response = conn.getresponse()\n",
    "    headers = [k + \": \" + v for (k, v) in response.getheaders()\n",
    "                   if k.startswith(\"BingAPIs-\") or k.startswith(\"X-MSEdge-\")]\n",
    "    return(headers, response)\n",
    "\n",
    "\n",
    "def save_image(http_response, filepath='image_result.jpg'):\n",
    "    http_response = http_response.read()\n",
    "    http_response = http_response.decode('utf-8')\n",
    "    response_dict = json.loads(http_response)\n",
    "    image_url = response_dict['value'][1]['contentUrl']\n",
    "    print('Saving image...')\n",
    "    urllib.request.urlretrieve(image_url, filepath)\n",
    "\n",
    "\n",
    "def generate_headline_document(headline_text, headline_image, filename='new_headline.pdf'):\n",
    "    c = canvas.Canvas(filename)\n",
    "    c.setFont('Helvetica-Bold', 16)\n",
    "    c.drawString(80,750,headline_text)\n",
    "    c.drawInlineImage(headline_image, x=90, y=220, preserveAspectRatio=True, width=10*cm, anchor='w')\n",
    "    c.save()\n"
   ]
  },
  {
   "cell_type": "code",
   "execution_count": 9,
   "metadata": {
    "collapsed": false
   },
   "outputs": [],
   "source": [
    "def generate_fake_news(sentiment='positive', output_file='fake_news.pdf'):\n",
    "    print(\"Generating \" + sentiment + \" headline\")\n",
    "    headline = get_headline(sentiment=sentiment,length=65)\n",
    "    print(headline)\n",
    "    print(\"Generating images\")\n",
    "    img = BingImageSearch(headline)[1]\n",
    "    save_image(img, \"headline_image.jpg\")\n",
    "    print(\"Generating news\")\n",
    "    generate_headline_document(headline_text=headline, headline_image='headline_image.jpg')\n",
    "    print(\"Fake News generated at \" + output_file)"
   ]
  },
  {
   "cell_type": "code",
   "execution_count": 11,
   "metadata": {
    "collapsed": false
   },
   "outputs": [
    {
     "name": "stdout",
     "output_type": "stream",
     "text": [
      "Generating negative headline\n",
      "Creating model\n",
      "Loaded negative model from disk\n",
      "ontinues in court\n",
      "Generating images\n",
      "Saving image...\n",
      "Generating news\n",
      "Fake News generated at fake_news.pdf\n"
     ]
    }
   ],
   "source": [
    "generate_fake_news(sentiment=sentiment)"
   ]
  }
 ],
 "metadata": {
  "kernelspec": {
   "display_name": "Python 3",
   "language": "python",
   "name": "python3"
  },
  "language_info": {
   "codemirror_mode": {
    "name": "ipython",
    "version": 3
   },
   "file_extension": ".py",
   "mimetype": "text/x-python",
   "name": "python",
   "nbconvert_exporter": "python",
   "pygments_lexer": "ipython3",
   "version": "3.6.0"
  }
 },
 "nbformat": 4,
 "nbformat_minor": 2
}
